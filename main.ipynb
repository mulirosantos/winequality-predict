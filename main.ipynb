{
 "cells": [
  {
   "cell_type": "markdown",
   "metadata": {},
   "source": [
    "# Machine Learn Project - Wine Quality Predict\n",
    "> [Project Idea](https://www.geeksforgeeks.org/wine-quality-prediction-machine-learning/)\n",
    "\n",
    "## Project desc:\n",
    "Here we will predict the quality of wine on the basis of given features. We use the wine quality dataset available on Internet for free. This dataset has the fundamental features which are responsible for affecting the quality of the wine. By the use of several Machine learning models, we will predict the quality of the wine.\n",
    "\n",
    "## Libraries:\n",
    "* Pandas\n",
    "* Scikit Learn\n",
    "* Plotly"
   ]
  }
 ],
 "metadata": {
  "language_info": {
   "name": "python"
  }
 },
 "nbformat": 4,
 "nbformat_minor": 2
}
